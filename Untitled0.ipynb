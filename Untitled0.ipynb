{
  "nbformat": 4,
  "nbformat_minor": 0,
  "metadata": {
    "colab": {
      "provenance": [],
      "authorship_tag": "ABX9TyMErPBY0tdiCYlojMMLhUFW",
      "include_colab_link": true
    },
    "kernelspec": {
      "name": "python3",
      "display_name": "Python 3"
    },
    "language_info": {
      "name": "python"
    }
  },
  "cells": [
    {
      "cell_type": "markdown",
      "metadata": {
        "id": "view-in-github",
        "colab_type": "text"
      },
      "source": [
        "<a href=\"https://colab.research.google.com/github/elfika03/python/blob/main/Untitled0.ipynb\" target=\"_parent\"><img src=\"https://colab.research.google.com/assets/colab-badge.svg\" alt=\"Open In Colab\"/></a>"
      ]
    },
    {
      "cell_type": "code",
      "execution_count": 1,
      "metadata": {
        "colab": {
          "base_uri": "https://localhost:8080/"
        },
        "id": "9zUfYvxJ2tDe",
        "outputId": "c9243900-9f5c-42b7-98b5-59b4259a4d1d"
      },
      "outputs": [
        {
          "output_type": "stream",
          "name": "stdout",
          "text": [
            "Nama: Budi, NIM: 123456 - KRS sudah dicetak\n"
          ]
        }
      ],
      "source": [
        "class Mahasiswa:\n",
        "    def __init__(self, nama, nim):\n",
        "        self.nama = nama\n",
        "        self.nim = nim\n",
        "\n",
        "    def cetak_krs(self):\n",
        "        print(f\"Nama: {self.nama}, NIM: {self.nim} - KRS sudah dicetak\")\n",
        "\n",
        "# Membuat objek\n",
        "mhs = Mahasiswa(\"Budi\", \"123456\")\n",
        "mhs.cetak_krs()"
      ]
    },
    {
      "cell_type": "code",
      "source": [
        "import math\n",
        "\n",
        "class Lingkaran:\n",
        "    def __init__(self, radius):\n",
        "        self.radius = radius\n",
        "\n",
        "    def buat_lingkaran(self):\n",
        "        luas = math.pi * (self.radius ** 2)\n",
        "        print(f\"Lingkaran dengan radius {self.radius} memiliki luas: {luas:.2f}\")\n",
        "\n",
        "# Membuat objek\n",
        "blt = Lingkaran(5)\n",
        "blt.buat_lingkaran()"
      ],
      "metadata": {
        "colab": {
          "base_uri": "https://localhost:8080/"
        },
        "id": "nQDpq0-E28bu",
        "outputId": "55190307-ab02-4ad2-c731-5c96dd001596"
      },
      "execution_count": 2,
      "outputs": [
        {
          "output_type": "stream",
          "name": "stdout",
          "text": [
            "Lingkaran dengan radius 5 memiliki luas: 78.54\n"
          ]
        }
      ]
    },
    {
      "cell_type": "code",
      "source": [
        "class Mobil:\n",
        "    def __init__(self, merk, tahun):\n",
        "        self.merk = merk\n",
        "        self.tahun = tahun\n",
        "\n",
        "    def info_mobil(self):\n",
        "        print(f\"Merk: {self.merk}, Tahun: {self.tahun}\")\n",
        "\n",
        "# Membuat objek\n",
        "mobil_saya = Mobil(\"Toyota\", 2020)\n",
        "mobil_saya.info_mobil()"
      ],
      "metadata": {
        "colab": {
          "base_uri": "https://localhost:8080/"
        },
        "id": "daMeSIPm3B5d",
        "outputId": "a7a44133-ca9a-4ca4-95aa-10eb6573a63a"
      },
      "execution_count": 3,
      "outputs": [
        {
          "output_type": "stream",
          "name": "stdout",
          "text": [
            "Merk: Toyota, Tahun: 2020\n"
          ]
        }
      ]
    },
    {
      "cell_type": "code",
      "source": [
        "class Hewan:\n",
        "    def __init__(self, nama, jenis):\n",
        "        self.nama = nama\n",
        "        self.jenis = jenis\n",
        "\n",
        "    def deskripsi_hewan(self):\n",
        "        print(f\"Hewan: {self.nama}, Jenis: {self.jenis}\")\n",
        "\n",
        "# Membuat objek\n",
        "kucing = Hewan(\"Kitty\", \"Kucing\")\n",
        "kucing.deskripsi_hewan()"
      ],
      "metadata": {
        "colab": {
          "base_uri": "https://localhost:8080/"
        },
        "id": "YkcgLACy3GcD",
        "outputId": "5066e878-3689-492a-ff32-8e45bd70d79d"
      },
      "execution_count": 4,
      "outputs": [
        {
          "output_type": "stream",
          "name": "stdout",
          "text": [
            "Hewan: Kitty, Jenis: Kucing\n"
          ]
        }
      ]
    },
    {
      "cell_type": "code",
      "source": [
        "class Buku:\n",
        "    def __init__(self, judul, pengarang):\n",
        "        self.judul = judul\n",
        "        self.pengarang = pengarang\n",
        "\n",
        "    def info_buku(self):\n",
        "        print(f\"Judul: {self.judul}, Pengarang: {self.pengarang}\")\n",
        "\n",
        "# Membuat objek\n",
        "buku_saya = Buku(\"Belajar Python\", \"John Doe\")\n",
        "buku_saya.info_buku()"
      ],
      "metadata": {
        "colab": {
          "base_uri": "https://localhost:8080/"
        },
        "id": "OaEX94Ra3KaY",
        "outputId": "43f3267b-8d51-47cb-d34f-c08ce3c64a22"
      },
      "execution_count": 5,
      "outputs": [
        {
          "output_type": "stream",
          "name": "stdout",
          "text": [
            "Judul: Belajar Python, Pengarang: John Doe\n"
          ]
        }
      ]
    }
  ]
}